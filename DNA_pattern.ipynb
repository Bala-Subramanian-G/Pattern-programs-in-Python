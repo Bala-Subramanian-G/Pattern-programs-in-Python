{
  "nbformat": 4,
  "nbformat_minor": 0,
  "metadata": {
    "colab": {
      "provenance": [],
      "authorship_tag": "ABX9TyMHRpjCJw4eKMiMFwITtsmd",
      "include_colab_link": true
    },
    "kernelspec": {
      "name": "python3",
      "display_name": "Python 3"
    },
    "language_info": {
      "name": "python"
    }
  },
  "cells": [
    {
      "cell_type": "markdown",
      "metadata": {
        "id": "view-in-github",
        "colab_type": "text"
      },
      "source": [
        "<a href=\"https://colab.research.google.com/github/Bala-Subramanian-G/Pattern-programs-in-Python/blob/main/DNA_pattern.ipynb\" target=\"_parent\"><img src=\"https://colab.research.google.com/assets/colab-badge.svg\" alt=\"Open In Colab\"/></a>"
      ]
    },
    {
      "cell_type": "markdown",
      "source": [
        "[Click here](https://www.linkedin.com/in/bala-subramanian-g/) to view the demonstration video. Or, Just run it yourself.\n",
        "\n",
        "It'll display the DNA pattern line-by-line with a given time interval. Eventually, it'll be a visual treat to see the output."
      ],
      "metadata": {
        "id": "b4wHF98mxUoR"
      }
    },
    {
      "cell_type": "markdown",
      "source": [
        "How did I do this?\n",
        "\n",
        "I just imported ```time``` library and used ```sleep``` method.\n",
        "```\n",
        "import time\n",
        "time.sleep(n)\n",
        "```\n",
        "The above code will delay for n seconds to print the output.\n",
        "\n",
        "In other words, it'll take n seconds to print the line after the ```sleep``` method is used.\n",
        "\n",
        "So I used this ```sleep``` method before every ```print``` statement."
      ],
      "metadata": {
        "id": "ckn2renNz5NQ"
      }
    },
    {
      "cell_type": "code",
      "source": [
        "def DNA(lag = 0):\n",
        "  mid_space = 9\n",
        "  initial_space = 0\n",
        "  import time\n",
        "  time.sleep(lag)\n",
        "  print(f\"❉{' '*9}❉\", flush = True)\n",
        "\n",
        "  for i in range(5):\n",
        "    time.sleep(lag)\n",
        "    print(f\"{' '*initial_space}❉{' '*mid_space}❉\", flush = True)\n",
        "    mid_space -= 2\n",
        "    initial_space += 1\n",
        "  time.sleep(lag)\n",
        "  print(f\"{' '*initial_space}❉\", flush = True)\n",
        "\n",
        "  for i in range(5):\n",
        "    initial_space -= 1\n",
        "    mid_space += 2\n",
        "    time.sleep(lag)\n",
        "    print(f\"{' '*initial_space}❉{' '*mid_space}❉\", flush = True)\n",
        "\n",
        "a = 3     # Length of DNA. Minimum 2 is suggested for beautiful output\n",
        "lag = 0.2 # Time interval(in seconds) between displaying one line and another line\n",
        "\n",
        "# Note: Don't pass any parameter in function-call if you don't want line-by-line display\n",
        "# Because lag=0 by default. So it'll delay the output for 0 seconds i.e. there is no delay.\n",
        "\n",
        "for i in range(a):\n",
        "  DNA(lag)"
      ],
      "metadata": {
        "colab": {
          "base_uri": "https://localhost:8080/"
        },
        "id": "jp04vIxopUHu",
        "outputId": "867c84b4-2adf-43dd-8933-b8450ad5cdf7"
      },
      "execution_count": 23,
      "outputs": [
        {
          "output_type": "stream",
          "name": "stdout",
          "text": [
            "❉         ❉\n",
            "❉         ❉\n",
            " ❉       ❉\n",
            "  ❉     ❉\n",
            "   ❉   ❉\n",
            "    ❉ ❉\n",
            "     ❉\n",
            "    ❉ ❉\n",
            "   ❉   ❉\n",
            "  ❉     ❉\n",
            " ❉       ❉\n",
            "❉         ❉\n",
            "❉         ❉\n",
            "❉         ❉\n",
            " ❉       ❉\n",
            "  ❉     ❉\n",
            "   ❉   ❉\n",
            "    ❉ ❉\n",
            "     ❉\n",
            "    ❉ ❉\n",
            "   ❉   ❉\n",
            "  ❉     ❉\n",
            " ❉       ❉\n",
            "❉         ❉\n",
            "❉         ❉\n",
            "❉         ❉\n",
            " ❉       ❉\n",
            "  ❉     ❉\n",
            "   ❉   ❉\n",
            "    ❉ ❉\n",
            "     ❉\n",
            "    ❉ ❉\n",
            "   ❉   ❉\n",
            "  ❉     ❉\n",
            " ❉       ❉\n",
            "❉         ❉\n"
          ]
        }
      ]
    }
  ]
}
