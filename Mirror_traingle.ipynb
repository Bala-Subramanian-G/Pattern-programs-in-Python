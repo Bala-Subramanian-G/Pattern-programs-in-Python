{
  "nbformat": 4,
  "nbformat_minor": 0,
  "metadata": {
    "colab": {
      "provenance": [],
      "authorship_tag": "ABX9TyP815OlqIyG/B4/mjlBhV/M",
      "include_colab_link": true
    },
    "kernelspec": {
      "name": "python3",
      "display_name": "Python 3"
    },
    "language_info": {
      "name": "python"
    }
  },
  "cells": [
    {
      "cell_type": "markdown",
      "metadata": {
        "id": "view-in-github",
        "colab_type": "text"
      },
      "source": [
        "<a href=\"https://colab.research.google.com/github/Bala-Subramanian-G/Pattern-programs-in-Python/blob/main/Mirror_traingle.ipynb\" target=\"_parent\"><img src=\"https://colab.research.google.com/assets/colab-badge.svg\" alt=\"Open In Colab\"/></a>"
      ]
    },
    {
      "cell_type": "code",
      "source": [
        "'''It works properly with odd numbers only.\n",
        "Even if we give even number, it will print n+1 lines.\n",
        "Because only in the range of odd range number,\n",
        "we get a perfect middle number.\n",
        "Eg:\n",
        "--> Let's assume n=5\n",
        "\"1 2 3 4 5\". Here, 3 perfect middle number.\n",
        "\n",
        "--> Let's assume n=6\n",
        "\"1 2 3 4 5 6\". Here, middle number is 3.5 which is not perfect(whole number).\n",
        "That perfect middle odd number will a top corner point of the triangle.'''\n",
        "\n",
        "n = int(input(\"Enter any odd number: \")) # It'll print n number of lines\n",
        "import math\n",
        "print()\n",
        "print(f\"*{' '*(n+4)}*\")\n",
        "initial_space = 1\n",
        "mid_space = n\n",
        "\n",
        "for i in range(1,math.floor(n/2)):\n",
        "  print(f\"*{' '*initial_space}*{' '*mid_space}*{' '*initial_space}*\")\n",
        "  initial_space += 1\n",
        "  mid_space -= 2\n",
        "print(f\"*{' '*initial_space}*{' '*mid_space}*{' '*initial_space}*\")\n",
        "\n",
        "for i in range(1,math.floor(n/2)):\n",
        "  initial_space -= 1\n",
        "  mid_space += 2\n",
        "  print(f\"*{' '*initial_space}*{' '*mid_space}*{' '*initial_space}*\")\n",
        "print(f\"*{' '*(n+4)}*\")"
      ],
      "metadata": {
        "colab": {
          "base_uri": "https://localhost:8080/"
        },
        "id": "BtDtHkEaOwEf",
        "outputId": "6de7d40c-e613-4570-f44c-f4dff44af5f5"
      },
      "execution_count": null,
      "outputs": [
        {
          "output_type": "stream",
          "name": "stdout",
          "text": [
            "Enter any odd number: 9\n",
            "\n",
            "*             *\n",
            "* *         * *\n",
            "*  *       *  *\n",
            "*   *     *   *\n",
            "*    *   *    *\n",
            "*   *     *   *\n",
            "*  *       *  *\n",
            "* *         * *\n",
            "*             *\n"
          ]
        }
      ]
    },
    {
      "cell_type": "code",
      "source": [
        "n = int(input(\"Enter any even number: \")) # It'll print n number of lines\n",
        "'''It works properly with even numbers only.\n",
        "Even if we give odd number, it will print n-1 lines.\n",
        "'''\n",
        "\n",
        "import math\n",
        "print()\n",
        "print(f\"*{' '*(n+4)}*\")\n",
        "initial_space = 1\n",
        "mid_space = n\n",
        "\n",
        "for i in range(1,math.floor(n/2)):\n",
        "  print(f\"*{' '*initial_space}*{' '*mid_space}*{' '*initial_space}*\")\n",
        "  initial_space += 1\n",
        "  mid_space -= 2\n",
        "for i in range(1,math.floor(n/2)):\n",
        "  initial_space -= 1\n",
        "  mid_space += 2\n",
        "  print(f\"*{' '*initial_space}*{' '*mid_space}*{' '*initial_space}*\")\n",
        "print(f\"*{' '*(n+4)}*\")"
      ],
      "metadata": {
        "colab": {
          "base_uri": "https://localhost:8080/"
        },
        "id": "avSel7n8Hlnh",
        "outputId": "90820a10-17b2-424a-f222-7b1c62715e76"
      },
      "execution_count": null,
      "outputs": [
        {
          "output_type": "stream",
          "name": "stdout",
          "text": [
            "Enter any even number: 10\n",
            "\n",
            "*              *\n",
            "* *          * *\n",
            "*  *        *  *\n",
            "*   *      *   *\n",
            "*    *    *    *\n",
            "*    *    *    *\n",
            "*   *      *   *\n",
            "*  *        *  *\n",
            "* *          * *\n",
            "*              *\n"
          ]
        }
      ]
    }
  ]
}