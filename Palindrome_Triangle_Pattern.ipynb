{
  "nbformat": 4,
  "nbformat_minor": 0,
  "metadata": {
    "colab": {
      "provenance": [],
      "authorship_tag": "ABX9TyO5Q1qIPvSH1i10WrbRB2Zn",
      "include_colab_link": true
    },
    "kernelspec": {
      "name": "python3",
      "display_name": "Python 3"
    },
    "language_info": {
      "name": "python"
    }
  },
  "cells": [
    {
      "cell_type": "markdown",
      "metadata": {
        "id": "view-in-github",
        "colab_type": "text"
      },
      "source": [
        "<a href=\"https://colab.research.google.com/github/Bala-Subramanian-G/Pattern-programs-in-Python/blob/main/Palindrome_Triangle_Pattern.ipynb\" target=\"_parent\"><img src=\"https://colab.research.google.com/assets/colab-badge.svg\" alt=\"Open In Colab\"/></a>"
      ]
    },
    {
      "cell_type": "code",
      "source": [
        "# Palindrome Triangle Pattern\n",
        "\n",
        "n = 9 #input (upto 9)\n",
        "\n",
        "space = (n*2)-2\n",
        "for i in range(1, n+1):\n",
        "  print(space*' ', end = ' ')\n",
        "  for j in range(i, 0, -1):\n",
        "    print(j, end = ' ')\n",
        "  for k in range(2, i+1):\n",
        "    print(k, end = ' ')\n",
        "  space -= 2\n",
        "  print()"
      ],
      "metadata": {
        "colab": {
          "base_uri": "https://localhost:8080/"
        },
        "id": "vr5teOzRTr2S",
        "outputId": "5535ee32-fd57-4a76-bb4c-6334256e6a78"
      },
      "execution_count": 16,
      "outputs": [
        {
          "output_type": "stream",
          "name": "stdout",
          "text": [
            "                 1 \n",
            "               2 1 2 \n",
            "             3 2 1 2 3 \n",
            "           4 3 2 1 2 3 4 \n",
            "         5 4 3 2 1 2 3 4 5 \n",
            "       6 5 4 3 2 1 2 3 4 5 6 \n",
            "     7 6 5 4 3 2 1 2 3 4 5 6 7 \n",
            "   8 7 6 5 4 3 2 1 2 3 4 5 6 7 8 \n",
            " 9 8 7 6 5 4 3 2 1 2 3 4 5 6 7 8 9 \n"
          ]
        }
      ]
    }
  ]
}