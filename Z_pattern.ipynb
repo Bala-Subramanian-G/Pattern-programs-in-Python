{
  "nbformat": 4,
  "nbformat_minor": 0,
  "metadata": {
    "colab": {
      "provenance": [],
      "authorship_tag": "ABX9TyPF3b5m14jPyPgNpYI/VQaO",
      "include_colab_link": true
    },
    "kernelspec": {
      "name": "python3",
      "display_name": "Python 3"
    },
    "language_info": {
      "name": "python"
    }
  },
  "cells": [
    {
      "cell_type": "markdown",
      "metadata": {
        "id": "view-in-github",
        "colab_type": "text"
      },
      "source": [
        "<a href=\"https://colab.research.google.com/github/Bala-Subramanian-G/Pattern-programs-in-Python/blob/main/Z_pattern.ipynb\" target=\"_parent\"><img src=\"https://colab.research.google.com/assets/colab-badge.svg\" alt=\"Open In Colab\"/></a>"
      ]
    },
    {
      "cell_type": "code",
      "source": [
        "# Z Pattern\n",
        "\n",
        "n = 11  # no of vertical lines\n",
        "space = n-1\n",
        "\n",
        "print((n+1)*'*', end = '')\n",
        "print('******')\n",
        "for i in range(n-2):\n",
        "  print(space*' ','******')\n",
        "  space -= 1\n",
        "print(space*' ','******', end = '')\n",
        "print((n+1)*'*')"
      ],
      "metadata": {
        "colab": {
          "base_uri": "https://localhost:8080/"
        },
        "id": "vr5teOzRTr2S",
        "outputId": "82d5fe14-96e6-4d4d-b8ca-a4f6b98bf635"
      },
      "execution_count": 13,
      "outputs": [
        {
          "output_type": "stream",
          "name": "stdout",
          "text": [
            "******************\n",
            "           ******\n",
            "          ******\n",
            "         ******\n",
            "        ******\n",
            "       ******\n",
            "      ******\n",
            "     ******\n",
            "    ******\n",
            "   ******\n",
            "  ******************\n"
          ]
        }
      ]
    }
  ]
}