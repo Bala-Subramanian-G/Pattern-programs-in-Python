{
  "nbformat": 4,
  "nbformat_minor": 0,
  "metadata": {
    "colab": {
      "provenance": [],
      "authorship_tag": "ABX9TyMA50UAG9qeztmMfXLTKj4J",
      "include_colab_link": true
    },
    "kernelspec": {
      "name": "python3",
      "display_name": "Python 3"
    },
    "language_info": {
      "name": "python"
    }
  },
  "cells": [
    {
      "cell_type": "markdown",
      "metadata": {
        "id": "view-in-github",
        "colab_type": "text"
      },
      "source": [
        "<a href=\"https://colab.research.google.com/github/Bala-Subramanian-G/Pattern-programs-in-Python/blob/main/Zero_One_Triangle_Pattern.ipynb\" target=\"_parent\"><img src=\"https://colab.research.google.com/assets/colab-badge.svg\" alt=\"Open In Colab\"/></a>"
      ]
    },
    {
      "cell_type": "code",
      "source": [
        "#  Zero-One Triangle Pattern\n",
        "\n",
        "n = 6\n",
        "m = 0\n",
        "for i in range(n):\n",
        "  m = 1 if m == 0 else 0\n",
        "  k = m\n",
        "  for j in range(i+1):\n",
        "    print(k, end = ' ')\n",
        "    k = 1 if k == 0 else 0\n",
        "  print()"
      ],
      "metadata": {
        "colab": {
          "base_uri": "https://localhost:8080/"
        },
        "id": "vr5teOzRTr2S",
        "outputId": "50a0aa62-bf2a-4e08-bc67-13991ed77c60"
      },
      "execution_count": 17,
      "outputs": [
        {
          "output_type": "stream",
          "name": "stdout",
          "text": [
            "        1 \n",
            "       2 2 \n",
            "      3 3 3 \n",
            "     4 4 4 4 \n",
            "    5 5 5 5 5 \n",
            "   6 6 6 6 6 6 \n",
            "  7 7 7 7 7 7 7 \n",
            " 8 8 8 8 8 8 8 8 \n",
            "9 9 9 9 9 9 9 9 9 \n"
          ]
        }
      ]
    }
  ]
}